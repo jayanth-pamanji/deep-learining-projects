{
 "cells": [
  {
   "cell_type": "code",
   "execution_count": 67,
   "id": "58c6932b-76ac-49b3-b3ad-3b37ae6b9f76",
   "metadata": {},
   "outputs": [],
   "source": [
    "from tensorflow.keras.models import load_model\n",
    "import tensorflow as tf\n",
    "import numpy as np\n",
    "\n",
    "# Load the model from the .keras file\n",
    "model = load_model('model_of_image_classification.keras')"
   ]
  },
  {
   "cell_type": "code",
   "execution_count": 68,
   "id": "5b007b98-b902-49ed-9872-8bcc07d699d4",
   "metadata": {},
   "outputs": [
    {
     "data": {
      "text/plain": [
       "<bound method Model.summary of <Sequential name=sequential_3, built=True>>"
      ]
     },
     "execution_count": 68,
     "metadata": {},
     "output_type": "execute_result"
    }
   ],
   "source": [
    "model.summary"
   ]
  },
  {
   "cell_type": "code",
   "execution_count": 69,
   "id": "75bddb78-4df5-430c-a53b-f19d1248ac60",
   "metadata": {},
   "outputs": [],
   "source": [
    "classes = [\"airplane\",\"automobile\",\"bird\",\"cat\",\"deer\",\"dog\",\"frog\",\"horse\",\"ship\",\"truck\"]"
   ]
  },
  {
   "cell_type": "code",
   "execution_count": 70,
   "id": "5b5a77ec-695a-4754-a589-f6986e103033",
   "metadata": {},
   "outputs": [],
   "source": [
    "from tensorflow.keras.preprocessing import image\n",
    "\n",
    "\n",
    "def load_and_preprocess_image(image_path, target_size):\n",
    "    img = image.load_img(image_path, target_size=target_size)\n",
    "    img_array = image.img_to_array(img)\n",
    "    img_array = np.expand_dims(img_array, axis=0)  # Add batch dimension\n",
    "    img_array = tf.keras.applications.mobilenet.preprocess_input(img_array)  # Preprocess input if using a specific model\n",
    "    return img_array"
   ]
  },
  {
   "cell_type": "code",
   "execution_count": 71,
   "id": "ace31584-88e4-4757-9616-1b4e215631e6",
   "metadata": {},
   "outputs": [],
   "source": [
    "def predict(model, img_array):\n",
    "    predictions = model.predict(img_array)\n",
    "    predicted_class = np.argmax(predictions, axis=1)\n",
    "    return int(predicted_class)"
   ]
  },
  {
   "cell_type": "code",
   "execution_count": 72,
   "id": "bdff432d-1328-43ca-90b6-ecf955688b4d",
   "metadata": {},
   "outputs": [],
   "source": [
    "image_path = '25.jfif'  # Update with your image path\n",
    "target_size = (32, 32)  # Adjust to match the model input size\n",
    "img_array = load_and_preprocess_image(image_path, target_size)\n"
   ]
  },
  {
   "cell_type": "code",
   "execution_count": 73,
   "id": "bcb97ba5-2abd-4434-b3f0-3086136511f0",
   "metadata": {},
   "outputs": [
    {
     "name": "stdout",
     "output_type": "stream",
     "text": [
      "\u001b[1m1/1\u001b[0m \u001b[32m━━━━━━━━━━━━━━━━━━━━\u001b[0m\u001b[37m\u001b[0m \u001b[1m0s\u001b[0m 287ms/step\n",
      "Predicted class: 3\n"
     ]
    },
    {
     "name": "stderr",
     "output_type": "stream",
     "text": [
      "C:\\Users\\jayap\\AppData\\Local\\Temp\\ipykernel_7192\\3899553261.py:4: DeprecationWarning: Conversion of an array with ndim > 0 to a scalar is deprecated, and will error in future. Ensure you extract a single element from your array before performing this operation. (Deprecated NumPy 1.25.)\n",
      "  return int(predicted_class)\n"
     ]
    }
   ],
   "source": [
    "predicted_class = predict(model, img_array)\n",
    "print(f\"Predicted class: {predicted_class}\")\n"
   ]
  },
  {
   "cell_type": "code",
   "execution_count": 74,
   "id": "3a84df91-ad42-450f-a3b9-9cbc2f51d935",
   "metadata": {},
   "outputs": [],
   "source": [
    "ans=classes[predicted_class]"
   ]
  },
  {
   "cell_type": "code",
   "execution_count": 75,
   "id": "9052f56b-e16b-4328-8ba1-eb56516ee5fd",
   "metadata": {},
   "outputs": [
    {
     "data": {
      "image/png": "[encoded data removed]",
      "text/plain": [
       "<Figure size 640x480 with 1 Axes>"
      ]
     },
     "metadata": {},
     "output_type": "display_data"
    }
   ],
   "source": [
    "import numpy as np\n",
    "import matplotlib.pyplot as plt\n",
    "img_array=img_array.squeeze(0)\n",
    "img_array = np.clip(img_array, 0, 255) \n",
    "\n",
    "plt.imshow(img_array)\n",
    "plt.title(ans,)\n",
    "plt.axis('off') \n",
    "plt.show()"
   ]
  },
  {
   "cell_type": "code",
   "execution_count": null,
   "id": "84fa3136-6f70-4c8e-b0e2-44c267049bfe",
   "metadata": {},
   "outputs": [],
   "source": []
  }
 ],
 "metadata": {
  "kernelspec": {
   "display_name": "Python 3 (ipykernel)",
   "language": "python",
   "name": "python3"
  },
  "language_info": {
   "codemirror_mode": {
    "name": "ipython",
    "version": 3
   },
   "file_extension": ".py",
   "mimetype": "text/x-python",
   "name": "python",
   "nbconvert_exporter": "python",
   "pygments_lexer": "ipython3",
   "version": "3.12.4"
  }
 },
 "nbformat": 4,
 "nbformat_minor": 5
}
